{
 "cells": [
  {
   "cell_type": "code",
   "execution_count": 14,
   "id": "16be0fbb",
   "metadata": {},
   "outputs": [
    {
     "data": {
      "text/plain": [
       "0.3380000000000001"
      ]
     },
     "execution_count": 14,
     "metadata": {},
     "output_type": "execute_result"
    }
   ],
   "source": [
    "import time\n",
    "\n",
    "def rand_num(minimum=-1,maximum=1):\n",
    "    now = str(time.perf_counter())\n",
    "    rnd = float(now[::-1][:3:])/1000\n",
    "    return (minimum + rnd*(maximum-minimum))\n",
    "\n",
    "rand_num(min, max)"
   ]
  },
  {
   "cell_type": "code",
   "execution_count": 15,
   "id": "b92b74c2",
   "metadata": {},
   "outputs": [],
   "source": [
    "list_value=[]\n",
    "for i in range(100):\n",
    "    val=[rand_num(minimum=-1,maximum=1)]\n",
    "    "
   ]
  },
  {
   "cell_type": "code",
   "execution_count": 16,
   "id": "24082f2b",
   "metadata": {},
   "outputs": [
    {
     "data": {
      "text/plain": [
       "(array([0., 0., 0., 0., 0., 1., 0., 0., 0., 0.]),\n",
       " array([0.294, 0.394, 0.494, 0.594, 0.694, 0.794, 0.894, 0.994, 1.094,\n",
       "        1.194, 1.294]),\n",
       " <BarContainer object of 10 artists>)"
      ]
     },
     "execution_count": 16,
     "metadata": {},
     "output_type": "execute_result"
    },
    {
     "data": {
      "image/png": "[encoded data removed]",
      "text/plain": [
       "<Figure size 432x288 with 1 Axes>"
      ]
     },
     "metadata": {
      "needs_background": "light"
     },
     "output_type": "display_data"
    }
   ],
   "source": [
    "import matplotlib.pyplot as plt\n",
    "plt.hist(val)"
   ]
  },
  {
   "cell_type": "code",
   "execution_count": 24,
   "id": "7d4f2a4a",
   "metadata": {},
   "outputs": [],
   "source": [
    "import math\n",
    "def pi_prediction():\n",
    "    total_points = 0\n",
    "    within_circle = 0\n",
    "    for i in range (10000):\n",
    "        x = rand_num(minimum=-1,maximum=1)\n",
    "        y = rand_num(minimum=-1,maximum=1)\n",
    "        total_points += 1\n",
    "        distance = math.sqrt(x**2+y**2)\n",
    "        if distance < 1:\n",
    "            within_circle += 1\n",
    "        if total_points % 1000 == 0:\n",
    "            pi_estimate = 4 * within_circle / total_points\n",
    "            yield pi_estimate"
   ]
  },
  {
   "cell_type": "code",
   "execution_count": 25,
   "id": "32a279db",
   "metadata": {},
   "outputs": [
    {
     "data": {
      "text/plain": [
       "[3.244,\n",
       " 3.314,\n",
       " 3.408,\n",
       " 3.387,\n",
       " 3.3648,\n",
       " 3.35,\n",
       " 3.3714285714285714,\n",
       " 3.348,\n",
       " 3.34,\n",
       " 3.3516]"
      ]
     },
     "execution_count": 25,
     "metadata": {},
     "output_type": "execute_result"
    }
   ],
   "source": [
    "list(es for es in pi_prediction())"
   ]
  },
  {
   "cell_type": "code",
   "execution_count": null,
   "id": "30b07743",
   "metadata": {},
   "outputs": [],
   "source": []
  }
 ],
 "metadata": {
  "kernelspec": {
   "display_name": "Python 3 (ipykernel)",
   "language": "python",
   "name": "python3"
  },
  "language_info": {
   "codemirror_mode": {
    "name": "ipython",
    "version": 3
   },
   "file_extension": ".py",
   "mimetype": "text/x-python",
   "name": "python",
   "nbconvert_exporter": "python",
   "pygments_lexer": "ipython3",
   "version": "3.8.8"
  }
 },
 "nbformat": 4,
 "nbformat_minor": 5
}
